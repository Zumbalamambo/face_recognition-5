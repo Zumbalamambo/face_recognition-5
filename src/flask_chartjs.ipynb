{
 "cells": [
  {
   "cell_type": "code",
   "execution_count": 1,
   "metadata": {},
   "outputs": [],
   "source": [
    "import os\n",
    "import sqlite3\n",
    "import pandas as pd\n",
    "from flask import Flask, g, render_template\n",
    "from contextlib import closing"
   ]
  },
  {
   "cell_type": "code",
   "execution_count": 66,
   "metadata": {},
   "outputs": [],
   "source": [
    "colors = [\n",
    "    \"#F7464A\", \"#46BFBD\", \"#FDB45C\", \"#FEDCBA\",\n",
    "    \"#ABCDEF\", \"#DDDDDD\", \"#ABCABC\", \"#4169E1\",\n",
    "    \"#C71585\", \"#FF4500\", \"#FEDCBA\", \"#46BFBD\"]"
   ]
  },
  {
   "cell_type": "code",
   "execution_count": 97,
   "metadata": {},
   "outputs": [],
   "source": [
    "# Create our little application\n",
    "app = Flask(__name__)"
   ]
  },
  {
   "cell_type": "code",
   "execution_count": 98,
   "metadata": {},
   "outputs": [],
   "source": [
    "# Configuration\n",
    "app.config.update(dict(\n",
    "    DATABASE = os.path.join(\"../data/people.db\")\n",
    "))"
   ]
  },
  {
   "cell_type": "code",
   "execution_count": 99,
   "metadata": {},
   "outputs": [],
   "source": [
    "def connect_db():\n",
    "    return sqlite3.connect(app.config['DATABASE'])"
   ]
  },
  {
   "cell_type": "code",
   "execution_count": 100,
   "metadata": {},
   "outputs": [],
   "source": [
    "# def init_db():\n",
    "#     with closing(connect_db()) as db:\n",
    "#         with app.open_resource(\"\")"
   ]
  },
  {
   "cell_type": "code",
   "execution_count": 101,
   "metadata": {},
   "outputs": [],
   "source": [
    "@app.route('/')\n",
    "def chart():\n",
    "    con = sqlite3.connect(\"../data/people.db\")\n",
    "    df = pd.read_sql_query(\"select * from people_inroom\", con)\n",
    "    \n",
    "    print(df.to_json())\n",
    "    con.close()\n",
    "    \n",
    "    name_list = df['name'].values.tolist()\n",
    "    gender_list = df['gender'].values.tolist()\n",
    "    old_list = df['old'].values.tolist()\n",
    "    total_in_room = len(name_list)\n",
    "    total_male_in_room = gender_list.count(0)\n",
    "    total_female_in_room = total_in_room - total_male_in_room\n",
    "    \n",
    "    gender = [\"Male\", \"Female\"]\n",
    "    values_gender = [total_male_in_room, total_female_in_room]\n",
    "#     all_values_old = \n",
    "    num_0 = len([i for i in old_list if (i < 20)])\n",
    "    num_20_30 = len([i for i in old_list if (i >= 20 and i < 30)])\n",
    "    num_30_40 = len([i for i in old_list if (i >= 30 and i < 40)])\n",
    "    num_40_50 = len([i for i in old_list if (i >= 40 and i < 50)])\n",
    "    num_50 = len([i for i in old_list if (i >= 50)])\n",
    "    old_labels = [\"0-20\", \"20-30\", \"30-40\", \"40-50\", \"50-\"]\n",
    "    old_values = [num_0, num_20_30, num_30_40, num_40_50, num_50]\n",
    "#     print(old_list)\n",
    "#     print(values_gender)\n",
    "#     print(name_list)\n",
    "    return render_template('linegraph.html', labels=gender, values=values_gender, old_labels = old_labels, old_values=old_values)\n",
    "    "
   ]
  },
  {
   "cell_type": "code",
   "execution_count": null,
   "metadata": {
    "scrolled": false
   },
   "outputs": [
    {
     "name": "stderr",
     "output_type": "stream",
     "text": [
      " * Running on http://0.0.0.0:1994/ (Press CTRL+C to quit)\n",
      "127.0.0.1 - - [14/May/2018 16:03:58] \"\u001b[37mGET / HTTP/1.1\u001b[0m\" 200 -\n"
     ]
    },
    {
     "name": "stdout",
     "output_type": "stream",
     "text": [
      "{\"name\":{\"0\":\"Dam Van Tai\",\"1\":\"unknown_0\",\"2\":\"unknown_1\",\"3\":\"unknown_2\",\"4\":\"unknown_3\",\"5\":\"unknown_4\"},\"gender\":{\"0\":0,\"1\":1,\"2\":1,\"3\":1,\"4\":1,\"5\":1},\"old\":{\"0\":24,\"1\":30,\"2\":29,\"3\":36,\"4\":39,\"5\":32}}\n"
     ]
    },
    {
     "name": "stderr",
     "output_type": "stream",
     "text": [
      "127.0.0.1 - - [14/May/2018 16:05:03] \"\u001b[37mGET / HTTP/1.1\u001b[0m\" 200 -\n"
     ]
    },
    {
     "name": "stdout",
     "output_type": "stream",
     "text": [
      "{\"name\":{\"0\":\"Dam Van Tai\",\"1\":\"unknown_0\",\"2\":\"unknown_1\",\"3\":\"unknown_2\",\"4\":\"unknown_3\",\"5\":\"unknown_4\"},\"gender\":{\"0\":0,\"1\":1,\"2\":1,\"3\":1,\"4\":1,\"5\":1},\"old\":{\"0\":24,\"1\":30,\"2\":29,\"3\":36,\"4\":39,\"5\":32}}\n"
     ]
    }
   ],
   "source": [
    "if __name__ == '__main__':\n",
    "    app.run(host='0.0.0.0', port=1994)"
   ]
  },
  {
   "cell_type": "code",
   "execution_count": null,
   "metadata": {},
   "outputs": [],
   "source": []
  }
 ],
 "metadata": {
  "kernelspec": {
   "display_name": "Python 3",
   "language": "python",
   "name": "python3"
  },
  "language_info": {
   "codemirror_mode": {
    "name": "ipython",
    "version": 3
   },
   "file_extension": ".py",
   "mimetype": "text/x-python",
   "name": "python",
   "nbconvert_exporter": "python",
   "pygments_lexer": "ipython3",
   "version": "3.5.2"
  }
 },
 "nbformat": 4,
 "nbformat_minor": 2
}
