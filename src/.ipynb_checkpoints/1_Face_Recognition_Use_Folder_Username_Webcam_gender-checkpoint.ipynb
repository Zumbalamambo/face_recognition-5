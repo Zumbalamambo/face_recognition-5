{
 "cells": [
  {
   "cell_type": "code",
   "execution_count": 16,
   "metadata": {},
   "outputs": [],
   "source": [
    "import cv2\n",
    "import numpy as np\n",
    "import face_recognition\n",
    "from PIL import Image\n",
    "import glob\n",
    "import re\n",
    "import ntpath\n",
    "import os\n",
    "import dlib\n",
    "import time\n",
    "from imutils.face_utils import FaceAligner\n",
    "import sqlite3\n",
    "from imutils.face_utils import rect_to_bb\n",
    "import imutils\n",
    "from imutils import face_utils\n",
    "import os\n",
    "import shutil\n",
    "import inception_resnet_v1\n",
    "import tensorflow as tf\n",
    "import matplotlib.pyplot as plt"
   ]
  },
  {
   "cell_type": "code",
   "execution_count": 2,
   "metadata": {},
   "outputs": [],
   "source": [
    "shutil.rmtree(\"../data/unknown_people/\")"
   ]
  },
  {
   "cell_type": "code",
   "execution_count": 3,
   "metadata": {},
   "outputs": [],
   "source": [
    "os.mkdir(\"../data/unknown_people/\")"
   ]
  },
  {
   "cell_type": "code",
   "execution_count": 4,
   "metadata": {},
   "outputs": [],
   "source": [
    "people = sqlite3.connect('people.db')\n",
    "c = people.cursor()"
   ]
  },
  {
   "cell_type": "code",
   "execution_count": 5,
   "metadata": {},
   "outputs": [
    {
     "name": "stdout",
     "output_type": "stream",
     "text": [
      "('Phạm Minh Anh', 0, 9)\n",
      "('Dam Thi Phuong Linh', 0, 11)\n",
      "('Dam Van Tai', 1, 24)\n",
      "('vietnam', 1, 24)\n",
      "('ha thi quynh huong', 1, 24)\n",
      "('Pham Van Tuan', 1, 30)\n",
      "('dam van tai', 1, 40)\n"
     ]
    }
   ],
   "source": [
    "# show name people know name\n",
    "for row in c.execute('select * from people_known order by old'):\n",
    "    print(row)"
   ]
  },
  {
   "cell_type": "code",
   "execution_count": 6,
   "metadata": {},
   "outputs": [],
   "source": [
    "# show name people in room equal empty\n",
    "c.execute('delete from people_inroom')\n",
    "people.commit()\n",
    "for row in c.execute('select * from people_inroom order by old'):\n",
    "    print(row)"
   ]
  },
  {
   "cell_type": "code",
   "execution_count": 7,
   "metadata": {},
   "outputs": [],
   "source": [
    "# show name people in room equal empty\n",
    "# c.execute('delete from people_inroom')\n",
    "# people.commit()\n",
    "# for row in c.execute('select * from people_inroom order by old'):\n",
    "#     print(row)"
   ]
  },
  {
   "cell_type": "code",
   "execution_count": 8,
   "metadata": {},
   "outputs": [],
   "source": [
    "# show id people unknown name\n",
    "c.execute('delete from people_unknown')\n",
    "people.commit()\n",
    "for row in c.execute('select * from people_unknown order by old'):\n",
    "    print(row)"
   ]
  },
  {
   "cell_type": "code",
   "execution_count": 9,
   "metadata": {},
   "outputs": [],
   "source": [
    "# show id people unknown name\n",
    "# c.execute('delete from people_unknown')\n",
    "# people.commit()\n",
    "# for row in c.execute('select * from people_unknown order by old'):\n",
    "#     print(row)"
   ]
  },
  {
   "cell_type": "code",
   "execution_count": 10,
   "metadata": {},
   "outputs": [],
   "source": [
    "# recognition face center\n",
    "def face_center(image):\n",
    "    image_gray = cv2.cvtColor(image, cv2.COLOR_RGB2GRAY)\n",
    "    rects = detector(image_gray, 1)\n",
    "    for (i, rect) in enumerate(rects):\n",
    "        points = predictor(image_gray, rect)\n",
    "        points = face_utils.shape_to_np(points)\n",
    "        center_face = points[37][1] - points[46][1]\n",
    "        if center_face < 10 & center_face > -10:\n",
    "            return True\n",
    "        else:\n",
    "            return False"
   ]
  },
  {
   "cell_type": "code",
   "execution_count": 20,
   "metadata": {},
   "outputs": [],
   "source": [
    "def _css_to_rect(css):\n",
    "    \"\"\"\n",
    "    Convert a tuple in (top, right, bottom, left) order to a dlib `rect` object\n",
    "    :param css:  plain tuple representation of the rect in (top, right, bottom, left) order\n",
    "    :return: a dlib `rect` object\n",
    "    \"\"\"\n",
    "    return dlib.rectangle(css[3], css[0], css[1], css[2])"
   ]
  },
  {
   "cell_type": "code",
   "execution_count": 12,
   "metadata": {
    "scrolled": false
   },
   "outputs": [
    {
     "name": "stdout",
     "output_type": "stream",
     "text": [
      "INFO:tensorflow:Restoring parameters from ../gender_age_tf/models/model.ckpt-14001\n",
      "restore model!\n"
     ]
    }
   ],
   "source": [
    "tf.reset_default_graph() \n",
    "sess = tf.Session()\n",
    "images_pl = tf.placeholder(tf.float32, shape=[None, 160, 160, 3], name='input_image')\n",
    "images_norm = tf.map_fn(lambda frame: tf.image.per_image_standardization(frame), images_pl)\n",
    "train_mode = tf.placeholder(tf.bool)\n",
    "age_logits, gender_logits, _ = inception_resnet_v1.inference(images_norm, keep_probability=0.8,\n",
    "                                                             weight_decay=1e-5)\n",
    "gender = tf.argmax(tf.nn.softmax(gender_logits), 1)\n",
    "age_ = tf.cast(tf.constant([i for i in range(0, 101)]), tf.float32)\n",
    "age = tf.reduce_sum(tf.multiply(tf.nn.softmax(age_logits), age_), axis=1)\n",
    "init_op = tf.group(tf.global_variables_initializer(),\n",
    "                   tf.local_variables_initializer())\n",
    "sess.run(init_op)\n",
    "saver = tf.train.Saver()\n",
    "ckpt = tf.train.get_checkpoint_state(\"../gender_age_tf/models/\")\n",
    "if ckpt and ckpt.model_checkpoint_path:\n",
    "    saver.restore(sess, ckpt.model_checkpoint_path)\n",
    "    print(\"restore model!\")\n",
    "else:\n",
    "    pass"
   ]
  },
  {
   "cell_type": "code",
   "execution_count": 13,
   "metadata": {},
   "outputs": [],
   "source": []
  },
  {
   "cell_type": "code",
   "execution_count": 14,
   "metadata": {
    "collapsed": true
   },
   "outputs": [
    {
     "name": "stdout",
     "output_type": "stream",
     "text": [
      "Dam Van Tai\n",
      "total in people in room  1\n",
      "total in people known name in room  1\n",
      "Dam Van Tai\n",
      "total in people in room  1\n",
      "total in people known name in room  1\n",
      "Dam Van Tai\n",
      "total in people in room  1\n",
      "total in people known name in room  1\n",
      "Dam Van Tai\n",
      "total in people in room  1\n",
      "total in people known name in room  1\n",
      "Dam Van Tai\n",
      "total in people in room  1\n",
      "total in people known name in room  1\n",
      "Dam Van Tai\n",
      "total in people in room  1\n",
      "total in people known name in room  1\n",
      "Dam Van Tai\n",
      "total in people in room  1\n",
      "total in people known name in room  1\n",
      "Dam Van Tai\n",
      "total in people in room  1\n",
      "total in people known name in room  1\n",
      "Dam Van Tai\n",
      "total in people in room  1\n",
      "total in people known name in room  1\n",
      "Dam Van Tai\n",
      "total in people in room  1\n",
      "total in people known name in room  1\n",
      "Dam Van Tai\n",
      "total in people in room  1\n",
      "total in people known name in room  1\n",
      "Dam Van Tai\n",
      "total in people in room  1\n",
      "total in people known name in room  1\n",
      "Dam Van Tai\n",
      "total in people in room  1\n",
      "total in people known name in room  1\n",
      "Dam Van Tai\n",
      "total in people in room  1\n",
      "total in people known name in room  1\n",
      "Dam Van Tai\n",
      "total in people in room  1\n",
      "total in people known name in room  1\n",
      "Dam Van Tai\n",
      "total in people in room  1\n",
      "total in people known name in room  1\n",
      "Dam Van Tai\n",
      "total in people in room  1\n",
      "total in people known name in room  1\n",
      "Dam Van Tai\n",
      "total in people in room  1\n",
      "total in people known name in room  1\n",
      "Dam Van Tai\n",
      "total in people in room  1\n",
      "total in people known name in room  1\n",
      "Dam Van Tai\n",
      "total in people in room  1\n",
      "total in people known name in room  1\n",
      "Dam Van Tai\n",
      "total in people in room  1\n",
      "total in people known name in room  1\n",
      "Dam Van Tai\n",
      "total in people in room  1\n",
      "total in people known name in room  1\n",
      "Dam Van Tai\n",
      "total in people in room  1\n",
      "total in people known name in room  1\n",
      "Dam Van Tai\n",
      "total in people in room  1\n",
      "total in people known name in room  1\n",
      "Dam Van Tai\n",
      "total in people in room  1\n",
      "total in people known name in room  1\n",
      "Dam Van Tai\n",
      "total in people in room  1\n",
      "total in people known name in room  1\n",
      "Dam Van Tai\n",
      "total in people in room  1\n",
      "total in people known name in room  1\n",
      "Dam Van Tai\n",
      "total in people in room  1\n",
      "total in people known name in room  1\n",
      "Dam Van Tai\n",
      "total in people in room  1\n",
      "total in people known name in room  1\n",
      "Dam Van Tai\n",
      "total in people in room  1\n",
      "total in people known name in room  1\n",
      "Dam Van Tai\n",
      "total in people in room  1\n",
      "total in people known name in room  1\n",
      "Dam Van Tai\n",
      "total in people in room  1\n",
      "total in people known name in room  1\n",
      "Dam Van Tai\n",
      "total in people in room  1\n",
      "total in people known name in room  1\n",
      "Dam Van Tai\n",
      "total in people in room  1\n",
      "total in people known name in room  1\n",
      "Dam Van Tai\n",
      "total in people in room  1\n",
      "total in people known name in room  1\n",
      "Dam Van Tai\n",
      "total in people in room  1\n",
      "total in people known name in room  1\n",
      "Dam Van Tai\n",
      "total in people in room  1\n",
      "total in people known name in room  1\n",
      "Dam Van Tai\n",
      "total in people in room  1\n",
      "total in people known name in room  1\n",
      "Dam Van Tai\n",
      "total in people in room  1\n",
      "total in people known name in room  1\n",
      "Dam Van Tai\n",
      "total in people in room  1\n",
      "total in people known name in room  1\n",
      "Dam Van Tai\n",
      "total in people in room  1\n",
      "total in people known name in room  1\n",
      "Dam Van Tai\n",
      "total in people in room  1\n",
      "total in people known name in room  1\n",
      "Dam Van Tai\n",
      "total in people in room  1\n",
      "total in people known name in room  1\n",
      "Dam Van Tai\n",
      "total in people in room  1\n",
      "total in people known name in room  1\n",
      "Dam Van Tai\n",
      "total in people in room  1\n",
      "total in people known name in room  1\n",
      "Dam Van Tai\n",
      "total in people in room  1\n",
      "total in people known name in room  1\n",
      "Dam Van Tai\n",
      "total in people in room  1\n",
      "total in people known name in room  1\n",
      "Dam Van Tai\n",
      "total in people in room  1\n",
      "total in people known name in room  1\n",
      "Dam Van Tai\n",
      "total in people in room  1\n",
      "total in people known name in room  1\n",
      "Dam Van Tai\n",
      "total in people in room  1\n",
      "total in people known name in room  1\n",
      "Dam Van Tai\n",
      "total in people in room  1\n",
      "total in people known name in room  1\n",
      "Dam Van Tai\n",
      "total in people in room  1\n",
      "total in people known name in room  1\n",
      "Dam Van Tai\n",
      "total in people in room  1\n",
      "total in people known name in room  1\n",
      "Dam Van Tai\n",
      "total in people in room  1\n",
      "total in people known name in room  1\n",
      "Dam Van Tai\n",
      "total in people in room  1\n",
      "total in people known name in room  1\n",
      "Dam Van Tai\n",
      "total in people in room  1\n",
      "total in people known name in room  1\n",
      "Dam Van Tai\n",
      "total in people in room  1\n",
      "total in people known name in room  1\n",
      "unknown_0\n",
      "total in people in room  2\n",
      "total in people known name in room  1\n",
      "total in people in room  2\n",
      "total in people known name in room  1\n",
      "total in people in room  2\n",
      "total in people known name in room  1\n",
      "total in people in room  2\n",
      "total in people known name in room  1\n",
      "Dam Van Tai\n",
      "total in people in room  2\n",
      "total in people known name in room  1\n",
      "total in people in room  2\n",
      "total in people known name in room  1\n",
      "total in people in room  2\n",
      "total in people known name in room  1\n",
      "total in people in room  2\n",
      "total in people known name in room  1\n",
      "total in people in room  2\n",
      "total in people known name in room  1\n",
      "total in people in room  2\n",
      "total in people known name in room  1\n",
      "total in people in room  2\n",
      "total in people known name in room  1\n",
      "total in people in room  2\n",
      "total in people known name in room  1\n",
      "total in people in room  2\n",
      "total in people known name in room  1\n",
      "total in people in room  2\n",
      "total in people known name in room  1\n",
      "total in people in room  2\n",
      "total in people known name in room  1\n",
      "total in people in room  2\n",
      "total in people known name in room  1\n",
      "total in people in room  2\n",
      "total in people known name in room  1\n",
      "total in people in room  2\n",
      "total in people known name in room  1\n",
      "total in people in room  2\n",
      "total in people known name in room  1\n",
      "total in people in room  2\n",
      "total in people known name in room  1\n",
      "total in people in room  2\n",
      "total in people known name in room  1\n",
      "total in people in room  2\n",
      "total in people known name in room  1\n",
      "total in people in room  2\n",
      "total in people known name in room  1\n",
      "total in people in room  2\n",
      "total in people known name in room  1\n",
      "total in people in room  2\n",
      "total in people known name in room  1\n",
      "total in people in room  2\n",
      "total in people known name in room  1\n",
      "total in people in room  2\n",
      "total in people known name in room  1\n",
      "total in people in room  2\n",
      "total in people known name in room  1\n",
      "total in people in room  2\n",
      "total in people known name in room  1\n",
      "total in people in room  2\n",
      "total in people known name in room  1\n",
      "total in people in room  2\n",
      "total in people known name in room  1\n",
      "total in people in room  2\n",
      "total in people known name in room  1\n",
      "total in people in room  2\n",
      "total in people known name in room  1\n",
      "total in people in room  2\n",
      "total in people known name in room  1\n",
      "total in people in room  2\n",
      "total in people known name in room  1\n",
      "total in people in room  2\n",
      "total in people known name in room  1\n",
      "total in people in room  2\n",
      "total in people known name in room  1\n",
      "total in people in room  2\n",
      "total in people known name in room  1\n",
      "total in people in room  2\n",
      "total in people known name in room  1\n",
      "Dam Van Tai\n",
      "total in people in room  2\n",
      "total in people known name in room  1\n",
      "total in people in room  2\n",
      "total in people known name in room  1\n",
      "total in people in room  2\n",
      "total in people known name in room  1\n",
      "total in people in room  2\n",
      "total in people known name in room  1\n",
      "total in people in room  2\n",
      "total in people known name in room  1\n",
      "Dam Van Tai\n",
      "total in people in room  2\n",
      "total in people known name in room  1\n",
      "total in people in room  2\n",
      "total in people known name in room  1\n",
      "total in people in room  2\n",
      "total in people known name in room  1\n",
      "total in people in room  2\n",
      "total in people known name in room  1\n",
      "total in people in room  2\n",
      "total in people known name in room  1\n",
      "total in people in room  2\n",
      "total in people known name in room  1\n",
      "total in people in room  2\n",
      "total in people known name in room  1\n",
      "total in people in room  2\n",
      "total in people known name in room  1\n",
      "total in people in room  2\n",
      "total in people known name in room  1\n",
      "total in people in room  2\n",
      "total in people known name in room  1\n",
      "total in people in room  2\n",
      "total in people known name in room  1\n",
      "total in people in room  2\n",
      "total in people known name in room  1\n",
      "total in people in room  2\n",
      "total in people known name in room  1\n",
      "Dam Van Tai\n",
      "total in people in room  2\n",
      "total in people known name in room  1\n"
     ]
    },
    {
     "name": "stdout",
     "output_type": "stream",
     "text": [
      "total in people in room  2\n",
      "total in people known name in room  1\n",
      "Dam Van Tai\n",
      "total in people in room  2\n",
      "total in people known name in room  1\n",
      "Dam Van Tai\n",
      "total in people in room  2\n",
      "total in people known name in room  1\n",
      "Dam Van Tai\n",
      "total in people in room  2\n",
      "total in people known name in room  1\n",
      "Dam Van Tai\n",
      "total in people in room  2\n",
      "total in people known name in room  1\n",
      "Dam Van Tai\n",
      "total in people in room  2\n",
      "total in people known name in room  1\n",
      "Dam Van Tai\n",
      "total in people in room  2\n",
      "total in people known name in room  1\n",
      "Dam Van Tai\n",
      "total in people in room  2\n",
      "total in people known name in room  1\n",
      "Dam Van Tai\n",
      "total in people in room  2\n",
      "total in people known name in room  1\n",
      "total in people in room  2\n",
      "total in people known name in room  1\n",
      "Dam Van Tai\n",
      "total in people in room  2\n",
      "total in people known name in room  1\n",
      "Dam Van Tai\n",
      "total in people in room  2\n",
      "total in people known name in room  1\n",
      "Dam Van Tai\n",
      "total in people in room  2\n",
      "total in people known name in room  1\n",
      "Dam Van Tai\n",
      "total in people in room  2\n",
      "total in people known name in room  1\n",
      "Dam Van Tai\n",
      "total in people in room  2\n",
      "total in people known name in room  1\n",
      "Dam Van Tai\n",
      "total in people in room  2\n",
      "total in people known name in room  1\n",
      "Dam Van Tai\n",
      "total in people in room  2\n",
      "total in people known name in room  1\n",
      "Dam Van Tai\n",
      "total in people in room  2\n",
      "total in people known name in room  1\n",
      "Dam Van Tai\n",
      "total in people in room  2\n",
      "total in people known name in room  1\n",
      "Dam Van Tai\n",
      "total in people in room  2\n",
      "total in people known name in room  1\n",
      "Dam Van Tai\n",
      "total in people in room  2\n",
      "total in people known name in room  1\n",
      "total in people in room  2\n",
      "total in people known name in room  1\n",
      "Dam Van Tai\n",
      "total in people in room  2\n",
      "total in people known name in room  1\n",
      "Dam Van Tai\n",
      "total in people in room  2\n",
      "total in people known name in room  1\n",
      "Dam Van Tai\n",
      "total in people in room  2\n",
      "total in people known name in room  1\n",
      "Dam Van Tai\n",
      "total in people in room  2\n",
      "total in people known name in room  1\n",
      "total in people in room  2\n",
      "total in people known name in room  1\n",
      "total in people in room  2\n",
      "total in people known name in room  1\n",
      "total in people in room  2\n",
      "total in people known name in room  1\n",
      "total in people in room  2\n",
      "total in people known name in room  1\n",
      "total in people in room  2\n",
      "total in people known name in room  1\n",
      "Dam Van Tai\n",
      "total in people in room  2\n",
      "total in people known name in room  1\n",
      "Dam Van Tai\n",
      "total in people in room  2\n",
      "total in people known name in room  1\n",
      "total in people in room  2\n",
      "total in people known name in room  1\n",
      "Dam Van Tai\n",
      "total in people in room  2\n",
      "total in people known name in room  1\n",
      "Dam Van Tai\n",
      "total in people in room  2\n",
      "total in people known name in room  1\n",
      "Dam Van Tai\n",
      "total in people in room  2\n",
      "total in people known name in room  1\n",
      "Dam Van Tai\n",
      "total in people in room  2\n",
      "total in people known name in room  1\n",
      "Dam Van Tai\n",
      "total in people in room  2\n",
      "total in people known name in room  1\n",
      "Dam Van Tai\n",
      "total in people in room  2\n",
      "total in people known name in room  1\n",
      "Dam Van Tai\n",
      "total in people in room  2\n",
      "total in people known name in room  1\n",
      "total in people in room  2\n",
      "total in people known name in room  1\n",
      "Dam Van Tai\n",
      "total in people in room  2\n",
      "total in people known name in room  1\n",
      "Dam Van Tai\n",
      "total in people in room  2\n",
      "total in people known name in room  1\n",
      "total in people in room  2\n",
      "total in people known name in room  1\n",
      "total in people in room  2\n",
      "total in people known name in room  1\n",
      "Dam Van Tai\n",
      "total in people in room  2\n",
      "total in people known name in room  1\n",
      "Dam Van Tai\n",
      "total in people in room  2\n",
      "total in people known name in room  1\n",
      "total in people in room  2\n",
      "total in people known name in room  1\n",
      "Dam Van Tai\n",
      "total in people in room  2\n",
      "total in people known name in room  1\n",
      "Dam Van Tai\n",
      "total in people in room  2\n",
      "total in people known name in room  1\n",
      "Dam Van Tai\n",
      "total in people in room  2\n",
      "total in people known name in room  1\n",
      "Dam Van Tai\n",
      "total in people in room  2\n",
      "total in people known name in room  1\n",
      "Dam Van Tai\n",
      "total in people in room  2\n",
      "total in people known name in room  1\n",
      "Dam Van Tai\n",
      "total in people in room  2\n",
      "total in people known name in room  1\n",
      "Dam Van Tai\n",
      "total in people in room  2\n",
      "total in people known name in room  1\n",
      "Dam Van Tai\n",
      "total in people in room  2\n",
      "total in people known name in room  1\n",
      "Dam Van Tai\n",
      "total in people in room  2\n",
      "total in people known name in room  1\n",
      "Dam Van Tai\n",
      "total in people in room  2\n",
      "total in people known name in room  1\n",
      "Dam Van Tai\n",
      "total in people in room  2\n",
      "total in people known name in room  1\n",
      "Dam Van Tai\n",
      "total in people in room  2\n",
      "total in people known name in room  1\n",
      "total in people in room  2\n",
      "total in people known name in room  1\n",
      "total in people in room  2\n",
      "total in people known name in room  1\n",
      "total in people in room  2\n",
      "total in people known name in room  1\n",
      "Dam Van Tai\n",
      "total in people in room  2\n",
      "total in people known name in room  1\n",
      "Dam Van Tai\n",
      "total in people in room  2\n",
      "total in people known name in room  1\n",
      "Dam Van Tai\n",
      "total in people in room  2\n",
      "total in people known name in room  1\n",
      "Dam Van Tai\n",
      "total in people in room  2\n",
      "total in people known name in room  1\n",
      "Dam Van Tai\n",
      "total in people in room  2\n",
      "total in people known name in room  1\n"
     ]
    },
    {
     "ename": "KeyboardInterrupt",
     "evalue": "",
     "output_type": "error",
     "traceback": [
      "\u001b[0;31m---------------------------------------------------------------------------\u001b[0m",
      "\u001b[0;31mKeyboardInterrupt\u001b[0m                         Traceback (most recent call last)",
      "\u001b[0;32m<ipython-input-14-6346a42b5cc2>\u001b[0m in \u001b[0;36m<module>\u001b[0;34m()\u001b[0m\n\u001b[1;32m     48\u001b[0m \u001b[0;31m#     if process_this_frame:\u001b[0m\u001b[0;34m\u001b[0m\u001b[0;34m\u001b[0m\u001b[0m\n\u001b[1;32m     49\u001b[0m     \u001b[0;31m# Find all the faces and face encodings in the current frame of video\u001b[0m\u001b[0;34m\u001b[0m\u001b[0;34m\u001b[0m\u001b[0m\n\u001b[0;32m---> 50\u001b[0;31m     \u001b[0mface_locations\u001b[0m \u001b[0;34m=\u001b[0m \u001b[0mface_recognition\u001b[0m\u001b[0;34m.\u001b[0m\u001b[0mface_locations\u001b[0m\u001b[0;34m(\u001b[0m\u001b[0mrgb_small_frame\u001b[0m\u001b[0;34m)\u001b[0m\u001b[0;34m\u001b[0m\u001b[0m\n\u001b[0m\u001b[1;32m     51\u001b[0m \u001b[0;31m#         print(face_locations)\u001b[0m\u001b[0;34m\u001b[0m\u001b[0;34m\u001b[0m\u001b[0m\n\u001b[1;32m     52\u001b[0m     \u001b[0mface_encodings\u001b[0m \u001b[0;34m=\u001b[0m \u001b[0mface_recognition\u001b[0m\u001b[0;34m.\u001b[0m\u001b[0mface_encodings\u001b[0m\u001b[0;34m(\u001b[0m\u001b[0mrgb_small_frame\u001b[0m\u001b[0;34m,\u001b[0m \u001b[0mface_locations\u001b[0m\u001b[0;34m)\u001b[0m\u001b[0;34m\u001b[0m\u001b[0m\n",
      "\u001b[0;32m/usr/local/lib/python3.5/dist-packages/face_recognition/api.py\u001b[0m in \u001b[0;36mface_locations\u001b[0;34m(img, number_of_times_to_upsample, model)\u001b[0m\n\u001b[1;32m    114\u001b[0m         \u001b[0;32mreturn\u001b[0m \u001b[0;34m[\u001b[0m\u001b[0m_trim_css_to_bounds\u001b[0m\u001b[0;34m(\u001b[0m\u001b[0m_rect_to_css\u001b[0m\u001b[0;34m(\u001b[0m\u001b[0mface\u001b[0m\u001b[0;34m.\u001b[0m\u001b[0mrect\u001b[0m\u001b[0;34m)\u001b[0m\u001b[0;34m,\u001b[0m \u001b[0mimg\u001b[0m\u001b[0;34m.\u001b[0m\u001b[0mshape\u001b[0m\u001b[0;34m)\u001b[0m \u001b[0;32mfor\u001b[0m \u001b[0mface\u001b[0m \u001b[0;32min\u001b[0m \u001b[0m_raw_face_locations\u001b[0m\u001b[0;34m(\u001b[0m\u001b[0mimg\u001b[0m\u001b[0;34m,\u001b[0m \u001b[0mnumber_of_times_to_upsample\u001b[0m\u001b[0;34m,\u001b[0m \u001b[0;34m\"cnn\"\u001b[0m\u001b[0;34m)\u001b[0m\u001b[0;34m]\u001b[0m\u001b[0;34m\u001b[0m\u001b[0m\n\u001b[1;32m    115\u001b[0m     \u001b[0;32melse\u001b[0m\u001b[0;34m:\u001b[0m\u001b[0;34m\u001b[0m\u001b[0m\n\u001b[0;32m--> 116\u001b[0;31m         \u001b[0;32mreturn\u001b[0m \u001b[0;34m[\u001b[0m\u001b[0m_trim_css_to_bounds\u001b[0m\u001b[0;34m(\u001b[0m\u001b[0m_rect_to_css\u001b[0m\u001b[0;34m(\u001b[0m\u001b[0mface\u001b[0m\u001b[0;34m)\u001b[0m\u001b[0;34m,\u001b[0m \u001b[0mimg\u001b[0m\u001b[0;34m.\u001b[0m\u001b[0mshape\u001b[0m\u001b[0;34m)\u001b[0m \u001b[0;32mfor\u001b[0m \u001b[0mface\u001b[0m \u001b[0;32min\u001b[0m \u001b[0m_raw_face_locations\u001b[0m\u001b[0;34m(\u001b[0m\u001b[0mimg\u001b[0m\u001b[0;34m,\u001b[0m \u001b[0mnumber_of_times_to_upsample\u001b[0m\u001b[0;34m,\u001b[0m \u001b[0mmodel\u001b[0m\u001b[0;34m)\u001b[0m\u001b[0;34m]\u001b[0m\u001b[0;34m\u001b[0m\u001b[0m\n\u001b[0m\u001b[1;32m    117\u001b[0m \u001b[0;34m\u001b[0m\u001b[0m\n\u001b[1;32m    118\u001b[0m \u001b[0;34m\u001b[0m\u001b[0m\n",
      "\u001b[0;32m/usr/local/lib/python3.5/dist-packages/face_recognition/api.py\u001b[0m in \u001b[0;36m_raw_face_locations\u001b[0;34m(img, number_of_times_to_upsample, model)\u001b[0m\n\u001b[1;32m     98\u001b[0m         \u001b[0;32mreturn\u001b[0m \u001b[0mcnn_face_detector\u001b[0m\u001b[0;34m(\u001b[0m\u001b[0mimg\u001b[0m\u001b[0;34m,\u001b[0m \u001b[0mnumber_of_times_to_upsample\u001b[0m\u001b[0;34m)\u001b[0m\u001b[0;34m\u001b[0m\u001b[0m\n\u001b[1;32m     99\u001b[0m     \u001b[0;32melse\u001b[0m\u001b[0;34m:\u001b[0m\u001b[0;34m\u001b[0m\u001b[0m\n\u001b[0;32m--> 100\u001b[0;31m         \u001b[0;32mreturn\u001b[0m \u001b[0mface_detector\u001b[0m\u001b[0;34m(\u001b[0m\u001b[0mimg\u001b[0m\u001b[0;34m,\u001b[0m \u001b[0mnumber_of_times_to_upsample\u001b[0m\u001b[0;34m)\u001b[0m\u001b[0;34m\u001b[0m\u001b[0m\n\u001b[0m\u001b[1;32m    101\u001b[0m \u001b[0;34m\u001b[0m\u001b[0m\n\u001b[1;32m    102\u001b[0m \u001b[0;34m\u001b[0m\u001b[0m\n",
      "\u001b[0;31mKeyboardInterrupt\u001b[0m: "
     ]
    }
   ],
   "source": [
    "# Initialize some variables\n",
    "face_locations = []\n",
    "face_encodings = []\n",
    "face_names = []\n",
    "process_this_frame = True\n",
    "name = \"\"\n",
    "frame_number = 0\n",
    "total_in_room = 0\n",
    "total_known_in_room = 0\n",
    "index = 0\n",
    "\n",
    "# Load known_face_encoding_array and known_face name from npy\n",
    "known_face_encodings_array = np.load(\"../data/numpy/known_face_encoding.npy\")\n",
    "known_face_names = np.load(\"../data/numpy/known_face_names.npy\")\n",
    "\n",
    "# Convert nparray -> list \n",
    "number_person = len(known_face_encodings_array)\n",
    "known_face_encodings_array = known_face_encodings_array.reshape(number_person, 128)\n",
    "known_face_encodings = []\n",
    "for i in range(len(known_face_encodings_array)):\n",
    "    known_face_encodings.append(known_face_encodings_array[i])\n",
    "\n",
    "# face encodings of people in room\n",
    "face_encodings_in_room = []\n",
    "face_encodings_unknown_in_room = []\n",
    "face_names_unknown_in_room = []\n",
    "# known_face_encodings: array known_face_encodings \n",
    "\n",
    "detector = dlib.get_frontal_face_detector()\n",
    "predictor = dlib.shape_predictor(\"shape_predictor_68_face_landmarks.dat\")\n",
    "fa = FaceAligner(predictor, desiredFaceWidth=160)\n",
    "\n",
    "# Capture from camera of own computer\n",
    "video_capture = cv2.VideoCapture(0)\n",
    "\n",
    "while True:\n",
    "    # Grab a single frame of video\n",
    "    ret, frame = video_capture.read()\n",
    "\n",
    "    frame_number += 1\n",
    "    \n",
    "    # Convert the image from BGR color (which OpenCV uses) to RGB color (which face_recognition uses)\n",
    "    rgb_small_frame = frame[:, :, ::-1]\n",
    "        \n",
    "    # Use computer configuration low\n",
    "#     if (frame_number % 3 == 0):\n",
    "    # Only process every other frame of video to save time\n",
    "#     if process_this_frame:\n",
    "\n",
    "    # Find all the faces and face encodings in the current frame of video\n",
    "    face_locations = face_recognition.face_locations(rgb_small_frame)\n",
    "#         print(face_locations)\n",
    "    face_encodings = face_recognition.face_encodings(rgb_small_frame, face_locations)\n",
    "\n",
    "    face_names = []\n",
    "    for (top, right, bottom, left), face_encoding in zip(face_locations, face_encodings):\n",
    "        face_unknown = frame[top:bottom, left-20:right+20]\n",
    "        \n",
    "        # test face center to process\n",
    "        if face_center(face_unknown) == True:\n",
    "            # See if the face is a match for the known face(s)\n",
    "            matches = face_recognition.compare_faces(known_face_encodings, face_encoding, tolerance=0.4)\n",
    "\n",
    "#             print(face_recognition.face_distance(known_face_encodings, face_encoding))\n",
    "#             print(matches)\n",
    "#             print(np.min(face_recognition.face_distance(known_face_encodings, face_encoding)))\n",
    "\n",
    "            distance = face_recognition.face_distance(known_face_encodings, face_encoding)\n",
    "            point = np.min(distance)\n",
    "#             print(distance)\n",
    "            index_point_min = np.argmin(distance)\n",
    "#             print(\"gia tri cua index_point_min\", index_point_min)\n",
    "            if point > 0.4:\n",
    "                if os.path.isfile(\"../data/unknown_people/unknown_0.jpg\"):\n",
    "                    distance_unknown = face_recognition.face_distance(face_encodings_unknown_in_room, face_encoding)\n",
    "                    min_distance_unknown = np.min(distance_unknown)\n",
    "                    if min_distance_unknown > 0.6:\n",
    "                        a = os.listdir(\"../data/unknown_people/\")\n",
    "                        a.sort()\n",
    "                        index = int(a[-1].split('.')[0].split('_')[1])\n",
    "                        index += 1\n",
    "                        print(\"gia tri index\", index)\n",
    "                        path = \"../data/unknown_people/unknown_\" + str(index) + \".jpg\"\n",
    "                        name = \"unknown_\" + str(index)\n",
    "                        cv2.imwrite(path, face_unknown)\n",
    "                        face_encodings_unknown_in_room.append(face_encoding)\n",
    "                        face_names_unknown_in_room.append(name)\n",
    "                        total_in_room += 1\n",
    "                        print(name)\n",
    "\n",
    "                        # Draw a rectangle with detect the face\n",
    "                        cv2.rectangle(frame, (left, top), (right, bottom), (0, 0, 255), 2)\n",
    "\n",
    "                        # Draw a label with a name below the face\n",
    "                        cv2.rectangle(frame, (left, bottom - 35), (right, bottom), (0, 0, 255), cv2.FILLED)\n",
    "                        font = cv2.FONT_HERSHEY_DUPLEX\n",
    "                        cv2.putText(frame, name, (left + 6, bottom - 6), font, 1.0, (255, 255, 255), 1)\n",
    "                        \n",
    "                        # estimate gender and age\n",
    "                        \n",
    "                        c.execute(\"insert into people_inroom values ('%s', 1, 12)\" % name)\n",
    "                        people.commit()\n",
    "                        c.execute(\"insert into people_unknown values ('%s', 1, 12)\" % name)\n",
    "                        people.commit()\n",
    "                else:\n",
    "                    name = \"unknown_0\"\n",
    "                    path = \"../data/unknown_people/unknown_0\" + \".jpg\"\n",
    "                    cv2.imwrite(path, face_unknown)\n",
    "                    face_encodings_unknown_in_room.append(face_encoding)\n",
    "                    face_names_unknown_in_room.append(name)\n",
    "                    total_in_room += 1\n",
    "                    print(name)\n",
    "\n",
    "                    # Draw a rectangle with detect the face\n",
    "                    cv2.rectangle(frame, (left, top), (right, bottom), (0, 0, 255), 2)\n",
    "\n",
    "                    # Draw a label with a name below the face\n",
    "                    cv2.rectangle(frame, (left, bottom - 35), (right, bottom), (0, 0, 255), cv2.FILLED)\n",
    "                    font = cv2.FONT_HERSHEY_DUPLEX\n",
    "                    cv2.putText(frame, name, (left + 6, bottom - 6), font, 1.0, (255, 255, 255), 1)\n",
    "\n",
    "                    c.execute(\"insert into people_inroom values ('%s', 1, 12)\" % name)\n",
    "                    people.commit()\n",
    "                    c.execute(\"insert into people_unknown values ('%s', 1, 12)\" % name)\n",
    "                    people.commit()\n",
    "\n",
    "            # If a match was found in known_face_encodings, just use the first one.\n",
    "            if True in matches:\n",
    "#                 first_match_index = matches.index(True)\n",
    "#                 print(\"gia tri cua first_match_index\", first_match_index)\n",
    "#                 first_match_index = matches[index_point_min]\n",
    "#                 name = known_face_names[first_match_index]\n",
    "                name = known_face_names[index_point_min]\n",
    "\n",
    "                # Draw a rectangle with detect the face\n",
    "                cv2.rectangle(frame, (left, top), (right, bottom), (0, 0, 255), 2)\n",
    "\n",
    "                # Draw a label with a name below the face\n",
    "                cv2.rectangle(frame, (left, bottom - 35), (right, bottom), (0, 0, 255), cv2.FILLED)\n",
    "                font = cv2.FONT_HERSHEY_DUPLEX\n",
    "                cv2.putText(frame, name, (left + 6, bottom - 6), font, 1.0, (255, 255, 255), 1)\n",
    "\n",
    "                print(name)\n",
    "                c.execute(\"select * from people_known where name= '%s'\" % name)\n",
    "                data_temp = c.fetchone()  # name in people known\n",
    "                c.execute(\"select * from people_inroom where name='%s'\" % name)\n",
    "                data_name_inroom = c.fetchone() # name in room\n",
    "                if data_name_inroom == None:\n",
    "                    c.execute(\"insert into people_inroom values (?, ?, ?)\", data_temp)\n",
    "                    people.commit()\n",
    "                    total_in_room += 1\n",
    "                    total_known_in_room += 1\n",
    "            face_names.append(name)\n",
    "\n",
    "        print(\"total in people in room \", total_in_room)\n",
    "        print(\"total in people known name in room \", total_known_in_room)\n",
    "    # Display the resulting image\n",
    "    cv2.imshow('Video', frame)\n",
    "\n",
    "    # Hit 'q' on the keyboard to quit!\n",
    "    if cv2.waitKey(1) & 0xFF == ord('q'):\n",
    "        break\n",
    "people.close()"
   ]
  },
  {
   "cell_type": "code",
   "execution_count": 233,
   "metadata": {
    "scrolled": true
   },
   "outputs": [],
   "source": [
    "import tensorflow as tf\n",
    "import inception_resnet_v1\n",
    "import cv2\n",
    "import dlib\n",
    "from imutils.face_utils import FaceAligner\n",
    "from imutils.face_utils import rect_to_bb\n",
    "import numpy as np\n",
    "import face_recognition\n",
    "import matplotlib.pyplot as plt"
   ]
  },
  {
   "cell_type": "code",
   "execution_count": 234,
   "metadata": {},
   "outputs": [
    {
     "name": "stdout",
     "output_type": "stream",
     "text": [
      "INFO:tensorflow:Restoring parameters from ../gender_age_tf/models/model.ckpt-14001\n",
      "restore model!\n"
     ]
    }
   ],
   "source": [
    "tf.reset_default_graph() \n",
    "# sess = tf.InteractiveSession()\n",
    "sess = tf.Session()\n",
    "images_pl = tf.placeholder(tf.float32, shape=[None, 160, 160, 3], name='input_image')\n",
    "images_norm = tf.map_fn(lambda frame: tf.image.per_image_standardization(frame), images_pl)\n",
    "train_mode = tf.placeholder(tf.bool)\n",
    "age_logits, gender_logits, _ = inception_resnet_v1.inference(images_norm, keep_probability=0.8,\n",
    "                                                             phase_train=train_mode,\n",
    "                                                             weight_decay=1e-5)\n",
    "\n",
    "gender = tf.argmax(tf.nn.softmax(gender_logits), 1)\n",
    "age_ = tf.cast(tf.constant([i for i in range(0, 101)]), tf.float32)\n",
    "age = tf.reduce_sum(tf.multiply(tf.nn.softmax(age_logits), age_), axis=1)\n",
    "init_op = tf.group(tf.global_variables_initializer(),\n",
    "                   tf.local_variables_initializer())\n",
    "sess.run(init_op)\n",
    "saver = tf.train.Saver()\n",
    "ckpt = tf.train.get_checkpoint_state(\"../gender_age_tf/models/\")\n",
    "if ckpt and ckpt.model_checkpoint_path:\n",
    "    saver.restore(sess, ckpt.model_checkpoint_path)\n",
    "    print(\"restore model!\")\n",
    "else:\n",
    "    pass"
   ]
  },
  {
   "cell_type": "code",
   "execution_count": null,
   "metadata": {},
   "outputs": [],
   "source": []
  },
  {
   "cell_type": "code",
   "execution_count": null,
   "metadata": {},
   "outputs": [],
   "source": []
  },
  {
   "cell_type": "code",
   "execution_count": 337,
   "metadata": {},
   "outputs": [],
   "source": [
    "image = cv2.imread(\"../data/pictures_of_people_i_know/unknown_1.jpg\", cv2.COLOR_RGB2BGR)"
   ]
  },
  {
   "cell_type": "code",
   "execution_count": 338,
   "metadata": {},
   "outputs": [
    {
     "ename": "TypeError",
     "evalue": "Image data cannot be converted to float",
     "output_type": "error",
     "traceback": [
      "\u001b[0;31m---------------------------------------------------------------------------\u001b[0m",
      "\u001b[0;31mTypeError\u001b[0m                                 Traceback (most recent call last)",
      "\u001b[0;32m<ipython-input-338-12ba6d47bd7e>\u001b[0m in \u001b[0;36m<module>\u001b[0;34m()\u001b[0m\n\u001b[0;32m----> 1\u001b[0;31m \u001b[0mplt\u001b[0m\u001b[0;34m.\u001b[0m\u001b[0mimshow\u001b[0m\u001b[0;34m(\u001b[0m\u001b[0mimage\u001b[0m\u001b[0;34m)\u001b[0m\u001b[0;34m\u001b[0m\u001b[0m\n\u001b[0m",
      "\u001b[0;32m/usr/local/lib/python3.5/dist-packages/matplotlib/pyplot.py\u001b[0m in \u001b[0;36mimshow\u001b[0;34m(X, cmap, norm, aspect, interpolation, alpha, vmin, vmax, origin, extent, shape, filternorm, filterrad, imlim, resample, url, hold, data, **kwargs)\u001b[0m\n\u001b[1;32m   3100\u001b[0m                         \u001b[0mfilternorm\u001b[0m\u001b[0;34m=\u001b[0m\u001b[0mfilternorm\u001b[0m\u001b[0;34m,\u001b[0m \u001b[0mfilterrad\u001b[0m\u001b[0;34m=\u001b[0m\u001b[0mfilterrad\u001b[0m\u001b[0;34m,\u001b[0m\u001b[0;34m\u001b[0m\u001b[0m\n\u001b[1;32m   3101\u001b[0m                         \u001b[0mimlim\u001b[0m\u001b[0;34m=\u001b[0m\u001b[0mimlim\u001b[0m\u001b[0;34m,\u001b[0m \u001b[0mresample\u001b[0m\u001b[0;34m=\u001b[0m\u001b[0mresample\u001b[0m\u001b[0;34m,\u001b[0m \u001b[0murl\u001b[0m\u001b[0;34m=\u001b[0m\u001b[0murl\u001b[0m\u001b[0;34m,\u001b[0m \u001b[0mdata\u001b[0m\u001b[0;34m=\u001b[0m\u001b[0mdata\u001b[0m\u001b[0;34m,\u001b[0m\u001b[0;34m\u001b[0m\u001b[0m\n\u001b[0;32m-> 3102\u001b[0;31m                         **kwargs)\n\u001b[0m\u001b[1;32m   3103\u001b[0m     \u001b[0;32mfinally\u001b[0m\u001b[0;34m:\u001b[0m\u001b[0;34m\u001b[0m\u001b[0m\n\u001b[1;32m   3104\u001b[0m         \u001b[0max\u001b[0m\u001b[0;34m.\u001b[0m\u001b[0m_hold\u001b[0m \u001b[0;34m=\u001b[0m \u001b[0mwashold\u001b[0m\u001b[0;34m\u001b[0m\u001b[0m\n",
      "\u001b[0;32m/usr/local/lib/python3.5/dist-packages/matplotlib/__init__.py\u001b[0m in \u001b[0;36minner\u001b[0;34m(ax, *args, **kwargs)\u001b[0m\n\u001b[1;32m   1843\u001b[0m                         \u001b[0;34m\"the Matplotlib list!)\"\u001b[0m \u001b[0;34m%\u001b[0m \u001b[0;34m(\u001b[0m\u001b[0mlabel_namer\u001b[0m\u001b[0;34m,\u001b[0m \u001b[0mfunc\u001b[0m\u001b[0;34m.\u001b[0m\u001b[0m__name__\u001b[0m\u001b[0;34m)\u001b[0m\u001b[0;34m,\u001b[0m\u001b[0;34m\u001b[0m\u001b[0m\n\u001b[1;32m   1844\u001b[0m                         RuntimeWarning, stacklevel=2)\n\u001b[0;32m-> 1845\u001b[0;31m             \u001b[0;32mreturn\u001b[0m \u001b[0mfunc\u001b[0m\u001b[0;34m(\u001b[0m\u001b[0max\u001b[0m\u001b[0;34m,\u001b[0m \u001b[0;34m*\u001b[0m\u001b[0margs\u001b[0m\u001b[0;34m,\u001b[0m \u001b[0;34m**\u001b[0m\u001b[0mkwargs\u001b[0m\u001b[0;34m)\u001b[0m\u001b[0;34m\u001b[0m\u001b[0m\n\u001b[0m\u001b[1;32m   1846\u001b[0m \u001b[0;34m\u001b[0m\u001b[0m\n\u001b[1;32m   1847\u001b[0m         inner.__doc__ = _add_data_doc(inner.__doc__,\n",
      "\u001b[0;32m/usr/local/lib/python3.5/dist-packages/matplotlib/axes/_axes.py\u001b[0m in \u001b[0;36mimshow\u001b[0;34m(self, X, cmap, norm, aspect, interpolation, alpha, vmin, vmax, origin, extent, shape, filternorm, filterrad, imlim, resample, url, **kwargs)\u001b[0m\n\u001b[1;32m   5471\u001b[0m                               resample=resample, **kwargs)\n\u001b[1;32m   5472\u001b[0m \u001b[0;34m\u001b[0m\u001b[0m\n\u001b[0;32m-> 5473\u001b[0;31m         \u001b[0mim\u001b[0m\u001b[0;34m.\u001b[0m\u001b[0mset_data\u001b[0m\u001b[0;34m(\u001b[0m\u001b[0mX\u001b[0m\u001b[0;34m)\u001b[0m\u001b[0;34m\u001b[0m\u001b[0m\n\u001b[0m\u001b[1;32m   5474\u001b[0m         \u001b[0mim\u001b[0m\u001b[0;34m.\u001b[0m\u001b[0mset_alpha\u001b[0m\u001b[0;34m(\u001b[0m\u001b[0malpha\u001b[0m\u001b[0;34m)\u001b[0m\u001b[0;34m\u001b[0m\u001b[0m\n\u001b[1;32m   5475\u001b[0m         \u001b[0;32mif\u001b[0m \u001b[0mim\u001b[0m\u001b[0;34m.\u001b[0m\u001b[0mget_clip_path\u001b[0m\u001b[0;34m(\u001b[0m\u001b[0;34m)\u001b[0m \u001b[0;32mis\u001b[0m \u001b[0;32mNone\u001b[0m\u001b[0;34m:\u001b[0m\u001b[0;34m\u001b[0m\u001b[0m\n",
      "\u001b[0;32m/usr/local/lib/python3.5/dist-packages/matplotlib/image.py\u001b[0m in \u001b[0;36mset_data\u001b[0;34m(self, A)\u001b[0m\n\u001b[1;32m    647\u001b[0m         if (self._A.dtype != np.uint8 and\n\u001b[1;32m    648\u001b[0m                 not np.can_cast(self._A.dtype, float, \"same_kind\")):\n\u001b[0;32m--> 649\u001b[0;31m             \u001b[0;32mraise\u001b[0m \u001b[0mTypeError\u001b[0m\u001b[0;34m(\u001b[0m\u001b[0;34m\"Image data cannot be converted to float\"\u001b[0m\u001b[0;34m)\u001b[0m\u001b[0;34m\u001b[0m\u001b[0m\n\u001b[0m\u001b[1;32m    650\u001b[0m \u001b[0;34m\u001b[0m\u001b[0m\n\u001b[1;32m    651\u001b[0m         if not (self._A.ndim == 2\n",
      "\u001b[0;31mTypeError\u001b[0m: Image data cannot be converted to float"
     ]
    },
    {
     "data": {
      "image/png": "[encoded data removed]",
      "text/plain": [
       "<Figure size 432x288 with 1 Axes>"
      ]
     },
     "metadata": {},
     "output_type": "display_data"
    }
   ],
   "source": [
    "plt.imshow(image)"
   ]
  },
  {
   "cell_type": "code",
   "execution_count": 315,
   "metadata": {},
   "outputs": [
    {
     "data": {
      "text/plain": [
       "(222, 223, 3)"
      ]
     },
     "execution_count": 315,
     "metadata": {},
     "output_type": "execute_result"
    }
   ],
   "source": [
    "image.shape"
   ]
  },
  {
   "cell_type": "code",
   "execution_count": 316,
   "metadata": {},
   "outputs": [],
   "source": [
    "image_gray = cv2.cvtColor(image, cv2.COLOR_BGR2GRAY)"
   ]
  },
  {
   "cell_type": "code",
   "execution_count": 317,
   "metadata": {},
   "outputs": [],
   "source": [
    "detector = dlib.get_frontal_face_detector()\n",
    "predictor = dlib.shape_predictor(\"shape_predictor_68_face_landmarks.dat\")\n",
    "fa = FaceAligner(predictor, desiredFaceWidth=160)"
   ]
  },
  {
   "cell_type": "code",
   "execution_count": 318,
   "metadata": {},
   "outputs": [],
   "source": [
    "# use face_location"
   ]
  },
  {
   "cell_type": "code",
   "execution_count": 319,
   "metadata": {},
   "outputs": [],
   "source": [
    "face_location = face_recognition.face_locations(image)"
   ]
  },
  {
   "cell_type": "code",
   "execution_count": 320,
   "metadata": {},
   "outputs": [
    {
     "data": {
      "text/plain": [
       "[(15, 201, 201, 15)]"
      ]
     },
     "execution_count": 320,
     "metadata": {},
     "output_type": "execute_result"
    }
   ],
   "source": [
    "face_location"
   ]
  },
  {
   "cell_type": "code",
   "execution_count": 321,
   "metadata": {},
   "outputs": [],
   "source": [
    "def _css_to_rect(css):\n",
    "    \"\"\"\n",
    "    Convert a tuple in (top, right, bottom, left) order to a dlib `rect` object\n",
    "    :param css:  plain tuple representation of the rect in (top, right, bottom, left) order\n",
    "    :return: a dlib `rect` object\n",
    "    \"\"\"\n",
    "    return dlib.rectangle(css[3], css[0], css[1], css[2])"
   ]
  },
  {
   "cell_type": "code",
   "execution_count": 322,
   "metadata": {
    "scrolled": true
   },
   "outputs": [],
   "source": [
    "face_detector = _css_to_rect(face_location[0])"
   ]
  },
  {
   "cell_type": "code",
   "execution_count": 323,
   "metadata": {},
   "outputs": [
    {
     "data": {
      "text/plain": [
       "rectangle(15,15,201,201)"
      ]
     },
     "execution_count": 323,
     "metadata": {},
     "output_type": "execute_result"
    }
   ],
   "source": [
    "face_detector"
   ]
  },
  {
   "cell_type": "code",
   "execution_count": 324,
   "metadata": {},
   "outputs": [],
   "source": [
    "# use detector"
   ]
  },
  {
   "cell_type": "code",
   "execution_count": 325,
   "metadata": {},
   "outputs": [],
   "source": [
    "detected = detector(image_gray, 2)"
   ]
  },
  {
   "cell_type": "code",
   "execution_count": 326,
   "metadata": {},
   "outputs": [
    {
     "data": {
      "text/plain": [
       "rectangles[[(15, 16) (208, 208)]]"
      ]
     },
     "execution_count": 326,
     "metadata": {},
     "output_type": "execute_result"
    }
   ],
   "source": [
    "detected"
   ]
  },
  {
   "cell_type": "code",
   "execution_count": 327,
   "metadata": {},
   "outputs": [],
   "source": [
    "faces = np.empty((1, 160, 160, 3))\n",
    "# face = np.empty((160, 160, 3))"
   ]
  },
  {
   "cell_type": "code",
   "execution_count": 328,
   "metadata": {},
   "outputs": [
    {
     "data": {
      "text/plain": [
       "(160, 160, 3)"
      ]
     },
     "execution_count": 328,
     "metadata": {},
     "output_type": "execute_result"
    }
   ],
   "source": [
    "# type(faces[0])\n",
    "faces[0].shape"
   ]
  },
  {
   "cell_type": "code",
   "execution_count": 329,
   "metadata": {},
   "outputs": [],
   "source": [
    "face = fa.align(image, image_gray, detected[0])"
   ]
  },
  {
   "cell_type": "code",
   "execution_count": 330,
   "metadata": {
    "scrolled": false
   },
   "outputs": [
    {
     "data": {
      "text/plain": [
       "<matplotlib.image.AxesImage at 0x7f5f908c4780>"
      ]
     },
     "execution_count": 330,
     "metadata": {},
     "output_type": "execute_result"
    },
    {
     "data": {
      "image/png": "[encoded data removed]",
      "text/plain": [
       "<Figure size 432x288 with 1 Axes>"
      ]
     },
     "metadata": {},
     "output_type": "display_data"
    }
   ],
   "source": [
    "plt.imshow(face)"
   ]
  },
  {
   "cell_type": "code",
   "execution_count": 331,
   "metadata": {},
   "outputs": [],
   "source": [
    "face_loca = fa.align(image, image_gray, face_detector)"
   ]
  },
  {
   "cell_type": "code",
   "execution_count": 332,
   "metadata": {},
   "outputs": [
    {
     "data": {
      "text/plain": [
       "<matplotlib.image.AxesImage at 0x7f5f908fb2e8>"
      ]
     },
     "execution_count": 332,
     "metadata": {},
     "output_type": "execute_result"
    },
    {
     "data": {
      "image/png": "[encoded data removed]",
      "text/plain": [
       "<Figure size 432x288 with 1 Axes>"
      ]
     },
     "metadata": {},
     "output_type": "display_data"
    }
   ],
   "source": [
    "plt.imshow(face_loca)"
   ]
  },
  {
   "cell_type": "code",
   "execution_count": 333,
   "metadata": {},
   "outputs": [],
   "source": [
    "faces[0, :, :, :] = fa.align(image, image_gray, detected[0])"
   ]
  },
  {
   "cell_type": "code",
   "execution_count": 334,
   "metadata": {
    "scrolled": true
   },
   "outputs": [
    {
     "data": {
      "text/plain": [
       "[array([ 25.02889061], dtype=float32), array([1])]"
      ]
     },
     "execution_count": 334,
     "metadata": {},
     "output_type": "execute_result"
    }
   ],
   "source": [
    "sess.run([age, gender], feed_dict={images_pl: faces, train_mode: False})"
   ]
  },
  {
   "cell_type": "code",
   "execution_count": null,
   "metadata": {},
   "outputs": [],
   "source": []
  }
 ],
 "metadata": {
  "kernelspec": {
   "display_name": "Python 3",
   "language": "python",
   "name": "python3"
  },
  "language_info": {
   "codemirror_mode": {
    "name": "ipython",
    "version": 3
   },
   "file_extension": ".py",
   "mimetype": "text/x-python",
   "name": "python",
   "nbconvert_exporter": "python",
   "pygments_lexer": "ipython3",
   "version": "3.5.2"
  }
 },
 "nbformat": 4,
 "nbformat_minor": 2
}
