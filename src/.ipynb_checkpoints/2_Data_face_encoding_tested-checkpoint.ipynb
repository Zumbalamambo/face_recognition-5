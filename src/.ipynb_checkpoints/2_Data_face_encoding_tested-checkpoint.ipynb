{
 "cells": [
  {
   "cell_type": "code",
   "execution_count": 1,
   "metadata": {},
   "outputs": [],
   "source": [
    "import os\n",
    "import cv2\n",
    "import dlib\n",
    "import numpy as np\n",
    "import tensorflow as tf\n",
    "from imutils.face_utils import FaceAligner\n",
    "from imutils.face_utils import rect_to_bb\n",
    "import face_recognition\n",
    "from PIL import Image\n",
    "import glob\n",
    "import re\n",
    "import ntpath\n",
    "import pickle\n",
    "import time\n",
    "import os"
   ]
  },
  {
   "cell_type": "code",
   "execution_count": 2,
   "metadata": {},
   "outputs": [],
   "source": [
    "def known_face_encoding_to_numpy(path):\n",
    "    # list file image in folder\n",
    "    image_list_file = []\n",
    "    for filename in glob.glob(path + \"*\"):\n",
    "        image_list_file.append(filename)\n",
    "    \n",
    "    # Show name person in image\n",
    "    image_names = []\n",
    "#     image_names = [ntpath.split(name)[1].split('.')[0] for name in image_list_file]\n",
    "#     image_names = \n",
    "\n",
    "    image_names = [ntpath.split(name)[1].split('.')[0] for name in image_list_file]\n",
    "    \n",
    "    known_face_encodings = []\n",
    "    known_face_names = []\n",
    "    \n",
    "    # Create face encoding for ever image\n",
    "    for i, filename in enumerate(image_list_file):\n",
    "        # Load image\n",
    "        image = face_recognition.load_image_file(image_list_file[i])\n",
    "        \n",
    "        \n",
    "        face_encoding = face_recognition.face_encodings(image)\n",
    "        if len(face_encoding) != 0:\n",
    "            known_face_encodings.append(face_encoding)\n",
    "            known_face_names.append(image_names[i])\n",
    "        \n",
    "        else:\n",
    "            os.remove(filename)\n",
    "        \n",
    "    np.save(\"../data/numpy/known_face_encoding\", known_face_encodings)\n",
    "    np.save(\"../data/numpy/known_face_names\", known_face_names)\n",
    "    \n",
    "    return 1"
   ]
  },
  {
   "cell_type": "code",
   "execution_count": 3,
   "metadata": {
    "scrolled": false
   },
   "outputs": [
    {
     "name": "stdout",
     "output_type": "stream",
     "text": [
      "Time encoding image align:  2.979261875152588\n"
     ]
    }
   ],
   "source": [
    "start = time.time()\n",
    "known_face_encoding_to_numpy(\"/home/damvantai/Documents/face_recognition_demo/data/pictures_of_people_i_know/\")\n",
    "end = time.time()\n",
    "print(\"Time encoding image align: \", (end-start))"
   ]
  },
  {
   "cell_type": "code",
   "execution_count": 4,
   "metadata": {},
   "outputs": [],
   "source": [
    "known_face_encoding = np.load(\"../data/numpy/known_face_encoding.npy\")"
   ]
  },
  {
   "cell_type": "code",
   "execution_count": 5,
   "metadata": {},
   "outputs": [],
   "source": [
    "# print(known_face_encoding)\n",
    "# print(type(known_face_encoding))\n",
    "# print(type(known_face_encoding[0]))\n",
    "# print(type(known_face_encoding[0][0]))\n",
    "len(known_face_encoding)\n",
    "known_face_names = np.load(\"../data/numpy/known_face_names.npy\")"
   ]
  },
  {
   "cell_type": "code",
   "execution_count": 6,
   "metadata": {
    "scrolled": false
   },
   "outputs": [
    {
     "name": "stdout",
     "output_type": "stream",
     "text": [
      "3\n",
      "3\n",
      "['Dam Van Tai' 'Doan Van Dung' 'Ha Thi Quynh Huong']\n"
     ]
    }
   ],
   "source": [
    "print(len(known_face_names))\n",
    "print(len(known_face_encoding))\n",
    "print(known_face_names)"
   ]
  },
  {
   "cell_type": "code",
   "execution_count": null,
   "metadata": {},
   "outputs": [],
   "source": []
  }
 ],
 "metadata": {
  "kernelspec": {
   "display_name": "Python 3",
   "language": "python",
   "name": "python3"
  },
  "language_info": {
   "codemirror_mode": {
    "name": "ipython",
    "version": 3
   },
   "file_extension": ".py",
   "mimetype": "text/x-python",
   "name": "python",
   "nbconvert_exporter": "python",
   "pygments_lexer": "ipython3",
   "version": "3.5.2"
  }
 },
 "nbformat": 4,
 "nbformat_minor": 2
}
