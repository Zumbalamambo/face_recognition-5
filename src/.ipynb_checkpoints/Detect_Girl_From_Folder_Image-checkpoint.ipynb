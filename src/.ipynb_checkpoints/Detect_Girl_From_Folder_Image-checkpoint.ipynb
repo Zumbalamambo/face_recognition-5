{
 "cells": [
  {
   "cell_type": "code",
   "execution_count": 1,
   "metadata": {},
   "outputs": [
    {
     "name": "stdout",
     "output_type": "stream",
     "text": [
      "WARNING:tensorflow:From /usr/local/lib/python3.5/dist-packages/tensorflow/contrib/learn/python/learn/datasets/base.py:198: retry (from tensorflow.contrib.learn.python.learn.datasets.base) is deprecated and will be removed in a future version.\n",
      "Instructions for updating:\n",
      "Use the retry module or similar alternatives.\n"
     ]
    }
   ],
   "source": [
    "import os\n",
    "import cv2\n",
    "import dlib\n",
    "import numpy as np\n",
    "import inception_resnet_v1\n",
    "import tensorflow as tf\n",
    "from imutils.face_utils import FaceAligner\n",
    "from imutils.face_utils import rect_to_bb\n",
    "import matplotlib.pyplot as plt"
   ]
  },
  {
   "cell_type": "code",
   "execution_count": 2,
   "metadata": {},
   "outputs": [],
   "source": [
    "tf.reset_default_graph()\n",
    "\n",
    "sess = tf.Session()\n",
    "images_pl = tf.placeholder(tf.float32, shape=[None, 160, 160, 3], name='input_image')\n",
    "images_norm = tf.map_fn(lambda frame: tf.image.per_image_standardization(frame), images_pl)\n",
    "\n",
    "train_mode = tf.placeholder(tf.bool)\n",
    "\n",
    "age_logits, gender_logits, _ = inception_resnet_v1.inference(images_norm,\n",
    "                                                            keep_probability=0.8,\n",
    "                                                            phase_train=train_mode,\n",
    "                                                            weight_decay=1e-5)\n",
    "\n",
    "# Predict gender and age\n",
    "gender = tf.argmax(tf.nn.softmax(gender_logits), 1)\n",
    "age_ = tf.cast(tf.constant([i for i in range(0, 101)]), tf.float32)\n",
    "age = tf.reduce_sum(tf.multiply(tf.nn.softmax(age_logits), age_), axis=1)\n",
    "\n",
    "init_op = tf.group(tf.global_variables_initializer(),\n",
    "                  tf.local_variables_initializer())\n",
    "\n",
    "sess.run(init_op)\n",
    "saver = tf.train.Saver()\n",
    "ckpt = tf.train.get_checkpoint_state(\"gender_age_tf/models/\")\n",
    "if ckpt and ckpt.model_checkpoint_path:\n",
    "    saver.restore(sess, ckpt.model_checkpoint_path)\n",
    "    print(\"restore model!\")\n",
    "else:\n",
    "    pass "
   ]
  },
  {
   "cell_type": "code",
   "execution_count": 3,
   "metadata": {},
   "outputs": [],
   "source": [
    "detector = dlib.get_frontal_face_detector()\n",
    "predictor = dlib.shape_predictor(\"shape_predictor_68_face_landmarks.dat\")\n",
    "fa = FaceAligner(predictor, desiredFaceWidth=160)"
   ]
  },
  {
   "cell_type": "code",
   "execution_count": 6,
   "metadata": {},
   "outputs": [],
   "source": [
    "img_size = 160"
   ]
  },
  {
   "cell_type": "code",
   "execution_count": 7,
   "metadata": {},
   "outputs": [],
   "source": [
    "image_path = \"/home/damvantai/Desktop/ss/\""
   ]
  },
  {
   "cell_type": "code",
   "execution_count": 9,
   "metadata": {
    "scrolled": true
   },
   "outputs": [],
   "source": [
    "num_girl = 1\n",
    "for file in os.listdir(image_path):\n",
    "#     print(i)\n",
    "    img = cv2.imread(image_path + file)\n",
    "#     print(img.shape)\n",
    "    input_img = cv2.cvtColor(img, cv2.COLOR_BGR2RGB)\n",
    "    gray = cv2.cvtColor(img, cv2.COLOR_BGR2GRAY)\n",
    "#     img_h, img_w, _ = np.shape(input_img)\n",
    "    \n",
    "    \n",
    "    detected = detector(input_img, 1)\n",
    "    faces = np.empty((len(detected), img_size, img_size, 3))\n",
    "    \n",
    "    for i, d in enumerate(detected):\n",
    "        faces[i, :, :, :] = fa.align(input_img, gray, detected[i])\n",
    "        \n",
    "    if len(detected) == 1:\n",
    "        ages, genders = sess.run([age, gender], feed_dict={images_pl: faces, train_mode: False})\n",
    "        \n",
    "        if (genders[0] == 0):\n",
    "            continue\n",
    "        else:\n",
    "            os.remove(image_path + file)\n",
    "    else:\n",
    "        os.remove(image_path + file)"
   ]
  },
  {
   "cell_type": "code",
   "execution_count": 54,
   "metadata": {},
   "outputs": [],
   "source": [
    "os.remove(\"/home/neosai/Documents/dataset/instagram-general/test/0e3XqGSBTe.jpg\")"
   ]
  },
  {
   "cell_type": "code",
   "execution_count": null,
   "metadata": {},
   "outputs": [],
   "source": []
  }
 ],
 "metadata": {
  "kernelspec": {
   "display_name": "Python 3",
   "language": "python",
   "name": "python3"
  }
 },
 "nbformat": 4,
 "nbformat_minor": 2
}
