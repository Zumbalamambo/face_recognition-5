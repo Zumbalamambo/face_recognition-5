{
 "cells": [
  {
   "cell_type": "code",
   "execution_count": null,
   "metadata": {},
   "outputs": [],
   "source": [
    "import os\n",
    "import cv2\n",
    "import dlib\n",
    "import numpy as np\n",
    "import argparse\n",
    "import inception_resnet_v1\n",
    "import tensorflow as tf\n",
    "from imutils.face_utils import FaceAligner\n",
    "from imutils.face_utils import rect_to_bb"
   ]
  },
  {
   "cell_type": "code",
   "execution_count": null,
   "metadata": {},
   "outputs": [],
   "source": [
    "import face_recognition\n",
    "from PIL import Image\n",
    "import glob\n",
    "import re\n",
    "import ntpath"
   ]
  },
  {
   "cell_type": "code",
   "execution_count": null,
   "metadata": {},
   "outputs": [],
   "source": [
    "def draw_label(image, point, label, font=cv2.FONT_HERSHEY_SIMPLEX,\n",
    "              font_scale=1, thickness=2):\n",
    "    size = cv2.getTextSize(label, font, font_scale, thickness)[0]\n",
    "    x, y = point\n",
    "    cv2.rectangle(image, (x, y - size[1]), (x + size[0], y), (255, 0, 0), cv2.FILLED)\n",
    "    cv2.putText(image, label, point, font, font_scale, (255, 255, 255), thickness)"
   ]
  },
  {
   "cell_type": "code",
   "execution_count": null,
   "metadata": {},
   "outputs": [],
   "source": [
    "def main(sess,age,gender,train_mode,images_pl):\n",
    "#     args = get_args()\n",
    "    image_list_file = []\n",
    "    \n",
    "    for filename in glob.glob('/home/damvantai/Documents/face_recognition_demo/pictures_of_people_i_know/*'):\n",
    "        print(filename)\n",
    "    #     image = Image.open(filename)\n",
    "        image_list_file.append(filename)\n",
    "    \n",
    "    image_names = []\n",
    "    image_names = [ntpath.split(name)[1].split('.')[0] for name in image_list_file]\n",
    "    \n",
    "    face_encoding_list = {}\n",
    "    \n",
    "    for i, filename in enumerate(image_list_file):\n",
    "        image = face_recognition.load_image_file(image_list_file[i])\n",
    "        face_encoding_list[image_names[i]] = face_recognition.face_encodings(image)[0]\n",
    "    \n",
    "    known_face_encodings = []\n",
    "    known_face_names = []\n",
    "    \n",
    "    for name, face_encoding in face_encoding_list.items():\n",
    "        print(name)\n",
    "        known_face_encodings.append(face_encoding)\n",
    "        known_face_names.append(name)\n",
    "        \n",
    "    depth = 16\n",
    "    k = 8\n",
    "    frame_number = 0\n",
    "    # Initialize some variables\n",
    "    face_locations = []\n",
    "    face_encodings = []\n",
    "    face_names = []\n",
    "    process_this_frame = True\n",
    "    \n",
    "    \n",
    "    # for face detection\n",
    "    detector = dlib.get_frontal_face_detector()\n",
    "    predictor = dlib.shape_predictor(\"shape_predictor_68_face_landmarks.dat\")\n",
    "    fa = FaceAligner(predictor, desiredFaceWidth=160)\n",
    "\n",
    "    # load model and weights\n",
    "    img_size = 160\n",
    "\n",
    "    # capture video\n",
    "    cap = cv2.VideoCapture(-2)\n",
    "#     cap.set(CV_CAP_PROP_FRAME_WIDTH, 800);\n",
    "#     cap.set(CV_CAP_PROP_FRAME_HEIGHT, 400);\n",
    "    # Define the codec and create VideoWriter object\n",
    "    fourcc = cv2.VideoWriter_fourcc(*'XVID')\n",
    "    # fourcc = cv2.VideoWriter_fourcc(*'MP4V')\n",
    "\n",
    "    out = cv2.VideoWriter('output1.avi',fourcc, 5, (640,480))\n",
    "    # out = cv2.VideoWriter('output.mp4',fourcc, 20.0, (640,480))\n",
    "    # out = cv2.VideoWriter('output.avi', fourcc, 20.0, (1280, 720))\n",
    "    #     cap.set(cv2.CAP_PROP_FRAME_WIDTH, 640)\n",
    "    #     cap.set(cv2.CAP_PROP_FRAME_HEIGHT, 480)\n",
    "    \n",
    "    while True:\n",
    "        # get video frame\n",
    "        ret, img = cap.read()\n",
    "\n",
    "        if not ret:\n",
    "            print(\"error: failed to capture image\")\n",
    "            return -1\n",
    "        \n",
    "        frame_number += 1\n",
    "        rgb_small_frame = img[:, :, ::-1]\n",
    "        \n",
    "        if (frame_number % 3 == 0):\n",
    "            # Only process every other frame of video to save time\n",
    "            if process_this_frame:\n",
    "                # Find all the faces and face encodings in the current frame of video\n",
    "                face_locations = face_recognition.face_locations(rgb_small_frame)\n",
    "        #         print(face_locations)\n",
    "                face_encodings = face_recognition.face_encodings(rgb_small_frame, face_locations)\n",
    "\n",
    "    #             print(type(face_encodings))\n",
    "    #             print(type(known_face_encodings))\n",
    "    #             print(known_face_encodings[1])\n",
    "                face_names = []\n",
    "                for face_encoding in face_encodings:\n",
    "                    # See if the face is a match for the known face(s)\n",
    "                    matches = face_recognition.compare_faces(known_face_encodings, face_encoding, tolerance=0.4)\n",
    "        #             print(face_recognition.face_distance(known_face_encodings, face_encoding))\n",
    "                    name = \"Unknown\"\n",
    "                    print(np.min(face_recognition.face_distance(known_face_encodings, face_encoding)), name)\n",
    "                    \n",
    "\n",
    "                    # If a match was found in known_face_encodings, just use the first one.\n",
    "                    if True in matches:\n",
    "                        first_match_index = matches.index(True)\n",
    "                        name = known_face_names[first_match_index]\n",
    "\n",
    "                    face_names.append(name)\n",
    "        \n",
    "        \n",
    "            input_img = cv2.cvtColor(img, cv2.COLOR_BGR2RGB)\n",
    "            gray = cv2.cvtColor(img, cv2.COLOR_BGR2GRAY)\n",
    "            img_h, img_w, _ = np.shape(input_img)\n",
    "\n",
    "            # detect faces using dlib detector\n",
    "            detected = detector(input_img, 1)\n",
    "            faces = np.empty((len(detected), img_size, img_size, 3))\n",
    "\n",
    "            for i, d in enumerate(detected):\n",
    "                x1, y1, x2, y2, w, h = d.left(), d.top(), d.right() + 1, d.bottom() + 1, d.width(), d.height()\n",
    "                xw1 = max(int(x1 - 0.4 * w), 0)\n",
    "                yw1 = max(int(y1 - 0.4 * h), 0)\n",
    "                xw2 = min(int(x2 + 0.4 * w), img_w - 1)\n",
    "                yw2 = min(int(y2 + 0.4 * h), img_h - 1)\n",
    "                cv2.rectangle(img, (x1, y1), (x2, y2), (255, 0, 0), 2)\n",
    "                # cv2.rectangle(img, (xw1, yw1), (xw2, yw2), (255, 0, 0), 2)\n",
    "                faces[i, :, :, :] = fa.align(input_img, gray, detected[i])\n",
    "                # faces[i,:,:,:] = cv2.resize(img[yw1:yw2 + 1, xw1:xw2 + 1, :], (img_size, img_size))\n",
    "            #\n",
    "            if len(detected) > 0:\n",
    "                # predict ages and genders of the detected faces\n",
    "                ages,genders = sess.run([age, gender], feed_dict={images_pl: faces, train_mode: False})\n",
    "\n",
    "            # draw results\n",
    "            for i, d in enumerate(detected):\n",
    "                label = \"{}, {}\".format(int(ages[i]), \"F\" if genders[i] == 0 else \"M\")\n",
    "                draw_label(img, (d.left(), d.top()), label)\n",
    "\n",
    "            # Display the results\n",
    "            for (top, right, bottom, left), name in zip(face_locations, face_names):\n",
    "                # Scale back up face locations since the frame we detected in was scaled to 1/4 size\n",
    "        #         top *= 4\n",
    "        #         right *= 4\n",
    "        #         bottom *= 4\n",
    "        #         left *= 4\n",
    "\n",
    "                # Draw a box around the face\n",
    "    #             cv2.rectangle(img, (left, top), (right, bottom), (0, 0, 255), 2)\n",
    "\n",
    "                # Draw a label with a name below the face\n",
    "                cv2.rectangle(img, (left, bottom - 35), (right, bottom), (0, 0, 255), cv2.FILLED)\n",
    "                font = cv2.FONT_HERSHEY_DUPLEX\n",
    "                cv2.putText(img, name, (left + 6, bottom - 6), font, 1.0, (255, 255, 255), 1)\n",
    "\n",
    "            cv2.imshow(\"result\", img)\n",
    "        out.write(img)\n",
    "\n",
    "        key = cv2.waitKey(1)\n",
    "\n",
    "        if key == 27:\n",
    "            break"
   ]
  },
  {
   "cell_type": "code",
   "execution_count": null,
   "metadata": {},
   "outputs": [],
   "source": [
    "def load_network(model_path):\n",
    "    sess = tf.Session()\n",
    "    images_pl = tf.placeholder(tf.float32, shape=[None, 160, 160, 3], name='input_image')\n",
    "    images_norm = tf.map_fn(lambda frame: tf.image.per_image_standardization(frame), images_pl)\n",
    "    train_mode = tf.placeholder(tf.bool)\n",
    "    age_logits, gender_logits, _ = inception_resnet_v1.inference(images_norm, keep_probability=0.8,\n",
    "                                                                 phase_train=train_mode,\n",
    "                                                                 weight_decay=1e-5)\n",
    "    gender = tf.argmax(tf.nn.softmax(gender_logits), 1)\n",
    "    age_ = tf.cast(tf.constant([i for i in range(0, 101)]), tf.float32)\n",
    "    age = tf.reduce_sum(tf.multiply(tf.nn.softmax(age_logits), age_), axis=1)\n",
    "    init_op = tf.group(tf.global_variables_initializer(),\n",
    "                       tf.local_variables_initializer())\n",
    "    sess.run(init_op)\n",
    "    saver = tf.train.Saver()\n",
    "    ckpt = tf.train.get_checkpoint_state(model_path)\n",
    "    if ckpt and ckpt.model_checkpoint_path:\n",
    "        saver.restore(sess, ckpt.model_checkpoint_path)\n",
    "        print(\"restore model!\")\n",
    "    else:\n",
    "        pass\n",
    "    return sess,age,gender,train_mode,images_pl"
   ]
  },
  {
   "cell_type": "code",
   "execution_count": null,
   "metadata": {
    "scrolled": false
   },
   "outputs": [],
   "source": [
    "if __name__ == '__main__':\n",
    "#     parser = argparse.ArgumentParser()\n",
    "#     parser.add_argument(\"--model_path\", \"--M\", default=\"./models\", type=str, help=\"Model Path\")\n",
    "#     args = parser.parse_args()\n",
    "    sess, age, gender, train_mode,images_pl = load_network(\"../gender_age_tf/models/\")\n",
    "    main(sess,age,gender,train_mode,images_pl)"
   ]
  },
  {
   "cell_type": "code",
   "execution_count": null,
   "metadata": {},
   "outputs": [],
   "source": []
  },
  {
   "cell_type": "code",
   "execution_count": null,
   "metadata": {},
   "outputs": [],
   "source": []
  },
  {
   "cell_type": "code",
   "execution_count": null,
   "metadata": {},
   "outputs": [],
   "source": [
    "import face_recognition"
   ]
  },
  {
   "cell_type": "code",
   "execution_count": null,
   "metadata": {},
   "outputs": [],
   "source": [
    "# Load the jpg file into a numpy array\n",
    "image = face_recognition.load_image_file(\"/home/damvantai/Documents/face_recognition_demo/pictures_of_people_i_know/damvantai.jpg\")"
   ]
  },
  {
   "cell_type": "code",
   "execution_count": null,
   "metadata": {},
   "outputs": [],
   "source": [
    "image_l = face_recognition.face_locations(image)\n",
    "image_l"
   ]
  },
  {
   "cell_type": "code",
   "execution_count": null,
   "metadata": {},
   "outputs": [],
   "source": [
    "len(image_l)"
   ]
  },
  {
   "cell_type": "code",
   "execution_count": null,
   "metadata": {},
   "outputs": [],
   "source": [
    "image_list_file = []"
   ]
  },
  {
   "cell_type": "code",
   "execution_count": null,
   "metadata": {},
   "outputs": [],
   "source": [
    "for filename in glob.glob('/home/damvantai/Documents/face_recognition_demo/pictures_of_people_i_know/*'):\n",
    "#         print(filename)\n",
    "    image_list_file.append(filename)"
   ]
  },
  {
   "cell_type": "code",
   "execution_count": null,
   "metadata": {},
   "outputs": [],
   "source": [
    "image_names = []\n",
    "image_names = [ntpath.split(name)[1].split('.')[0] for name in image_list_file]\n",
    "    "
   ]
  },
  {
   "cell_type": "code",
   "execution_count": null,
   "metadata": {},
   "outputs": [],
   "source": [
    "image_names"
   ]
  },
  {
   "cell_type": "code",
   "execution_count": null,
   "metadata": {},
   "outputs": [],
   "source": [
    "face_encoding_list = {}\n",
    "known_face_encodings= []\n",
    "known_face_names = []"
   ]
  },
  {
   "cell_type": "code",
   "execution_count": null,
   "metadata": {},
   "outputs": [],
   "source": [
    "for i, filename in enumerate(image_list_file):\n",
    "        # Create array image\n",
    "        image = face_recognition.load_image_file(image_list_file[i])\n",
    "        # encoding vector embedding for ever person\n",
    "        face_encoding_list[image_names[i]] = face_recognition.face_encodings(image)[0]\n",
    "        known_face_encodings.append(face_recognition.face_encodings(image)[0])\n",
    "        known_face_names.append(image_names[i])\n",
    "        "
   ]
  },
  {
   "cell_type": "code",
   "execution_count": null,
   "metadata": {},
   "outputs": [],
   "source": [
    "known_face_encodings"
   ]
  },
  {
   "cell_type": "code",
   "execution_count": null,
   "metadata": {},
   "outputs": [],
   "source": []
  },
  {
   "cell_type": "code",
   "execution_count": null,
   "metadata": {},
   "outputs": [],
   "source": [
    "face_encoding_list"
   ]
  },
  {
   "cell_type": "code",
   "execution_count": null,
   "metadata": {},
   "outputs": [],
   "source": [
    "for name, face_encoding in face_encoding_list.items():\n",
    "        print(name)\n",
    "        known_face_encodings.append(face_encoding)\n",
    "        known_face_names.append(name)\n",
    "        "
   ]
  },
  {
   "cell_type": "code",
   "execution_count": null,
   "metadata": {},
   "outputs": [],
   "source": [
    "known_face_names"
   ]
  },
  {
   "cell_type": "code",
   "execution_count": null,
   "metadata": {},
   "outputs": [],
   "source": [
    "known_face_encodings"
   ]
  },
  {
   "cell_type": "code",
   "execution_count": null,
   "metadata": {},
   "outputs": [],
   "source": [
    "len(tai)"
   ]
  }
 ],
 "metadata": {
  "kernelspec": {
   "display_name": "Python 3",
   "language": "python",
   "name": "python3"
  },
  "language_info": {
   "codemirror_mode": {
    "name": "ipython",
    "version": 3
   },
   "file_extension": ".py",
   "mimetype": "text/x-python",
   "name": "python",
   "nbconvert_exporter": "python",
   "pygments_lexer": "ipython3",
   "version": "3.5.2"
  }
 },
 "nbformat": 4,
 "nbformat_minor": 2
}
