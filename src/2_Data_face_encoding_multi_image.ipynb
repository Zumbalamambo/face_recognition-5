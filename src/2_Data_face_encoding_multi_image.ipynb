{
 "cells": [
  {
   "cell_type": "code",
   "execution_count": 19,
   "metadata": {},
   "outputs": [],
   "source": [
    "import os\n",
    "import cv2\n",
    "import dlib\n",
    "import numpy as np\n",
    "import tensorflow as tf\n",
    "from imutils.face_utils import FaceAligner\n",
    "from imutils.face_utils import rect_to_bb\n",
    "import face_recognition\n",
    "from PIL import Image\n",
    "import glob\n",
    "import re\n",
    "import ntpath\n",
    "import pickle\n",
    "import time\n",
    "import os"
   ]
  },
  {
   "cell_type": "code",
   "execution_count": 20,
   "metadata": {},
   "outputs": [],
   "source": [
    "# image_list_file = []\n",
    "# for filename in glob.glob(\"/home/damvantai/Documents/face_recognition_demo/data/pictures_of_people_i_know/*\"):\n",
    "#     image_list_file.append(filename)"
   ]
  },
  {
   "cell_type": "code",
   "execution_count": 21,
   "metadata": {
    "scrolled": true
   },
   "outputs": [],
   "source": [
    "# image_list_file"
   ]
  },
  {
   "cell_type": "code",
   "execution_count": 22,
   "metadata": {},
   "outputs": [],
   "source": [
    "# image_names = [ntpath.split(name)[1].split('.')[0] + ntpath.split(name)[1].split('.')[1] for name in image_list_file]"
   ]
  },
  {
   "cell_type": "code",
   "execution_count": 23,
   "metadata": {},
   "outputs": [],
   "source": [
    "# image_names"
   ]
  },
  {
   "cell_type": "code",
   "execution_count": 24,
   "metadata": {},
   "outputs": [],
   "source": [
    "# ntpath.split(image_list_file[0])[1].split('.')[0]"
   ]
  },
  {
   "cell_type": "code",
   "execution_count": 25,
   "metadata": {},
   "outputs": [],
   "source": [
    "# known_face_encodings = []\n",
    "# known_face_names = []"
   ]
  },
  {
   "cell_type": "code",
   "execution_count": 26,
   "metadata": {},
   "outputs": [],
   "source": [
    "# for i, filename in enumerate(image_list_file):\n",
    "#     image = face_recognition.load_image_file(image_list_file[i])\n",
    "    \n",
    "#     face_encoding = face_recognition.face_encodings(image)\n",
    "    \n",
    "#     if len(face_encoding) != 0:\n",
    "#         known_face_encodings.append(face_encoding)\n",
    "#         known_face_names.append(image_names)\n",
    "#     else:\n",
    "#         os.remove(image_list_file[i])"
   ]
  },
  {
   "cell_type": "code",
   "execution_count": 27,
   "metadata": {},
   "outputs": [],
   "source": [
    "# image_list_file[5]"
   ]
  },
  {
   "cell_type": "code",
   "execution_count": 28,
   "metadata": {},
   "outputs": [],
   "source": [
    "# os.remove(image_list_file[5])"
   ]
  },
  {
   "cell_type": "code",
   "execution_count": 29,
   "metadata": {},
   "outputs": [],
   "source": [
    "def known_face_encoding_to_numpy(path):\n",
    "    # list file image in folder\n",
    "    image_list_file = []\n",
    "    for filename in glob.glob(path + \"*\"):\n",
    "        image_list_file.append(filename)\n",
    "    \n",
    "    # Show name person in image\n",
    "    image_names = []\n",
    "\n",
    "#     image_names = [ntpath.split(name)[1].split('.')[0] + ntpath.split(name)[1].split('.')[1] for name in image_list_file]\n",
    "    image_names = [ntpath.split(name)[1].split('.')[0] for name in image_list_file]\n",
    "    \n",
    "    known_face_encodings = []\n",
    "    known_face_names = []\n",
    "    \n",
    "    # Create face encoding for ever image\n",
    "    for i, filename in enumerate(image_list_file):\n",
    "        # Load image\n",
    "        image = face_recognition.load_image_file(image_list_file[i]) \n",
    "        face_encoding = face_recognition.face_encodings(image)\n",
    "        if len(face_encoding) != 0:\n",
    "            known_face_encodings.append(face_encoding)\n",
    "            known_face_names.append(image_names[i])\n",
    "        \n",
    "        else:\n",
    "            os.remove(filename)\n",
    "        \n",
    "        \n",
    "#         detector = dlib.get_frontal_face_detector()\n",
    "#         predictor_68_point_model = dlib.shape_predictor(\"shape_predictor_68_face_landmarks.dat\")\n",
    "#         fa_image = FaceAligner(predictor_68_point_model, desiredFaceWidth=160)\n",
    "        \n",
    "#         image_gray = cv2.cvtColor(image, cv2.COLOR_RGB2GRAY)\n",
    "#         detected = detector(image_gray, 1)\n",
    "        \n",
    "#         image_align = fa_image.align(image, image_gray, detected[0])\n",
    "    \n",
    "#         # Encoding vector embedding for ever person\n",
    "#         image_align_encoding = face_recognition.face_encodings(image_align)\n",
    "#         image_align_encoding = np.asarray(image_align_encoding)\n",
    "#         image_align_encoding = image_align_encoding.reshape(128,)\n",
    "#         known_face_encodings.append(image_align_encoding)\n",
    "#         known_face_names.append(image_names[i])\n",
    "    \n",
    "#     len(known_face_encodings)\n",
    "#     len(known_face_names)\n",
    "#     print(type(known_face_encodings))\n",
    "    \n",
    "#     f = open(\"data.txt\", \"w\")\n",
    "#     simplejson.dump(known_face_encodings, f)\n",
    "#     f.close\n",
    "\n",
    "    np.save(\"../data/numpy/known_face_encoding\", known_face_encodings)\n",
    "    np.save(\"../data/numpy/known_face_names\", known_face_names)\n",
    "    \n",
    "    # Use pickle\n",
    "#     with open(\"../data/data_face_encodings_align.txt\", \"wb\") as f:\n",
    "#         pickle.dump(known_face_encodings, f)\n",
    "#     f.close\n",
    "    \n",
    "#     with open(\"../data/data_face_name_align.txt\", \"wb\") as f:\n",
    "#         pickle.dump(known_face_names, f)\n",
    "#     f.close\n",
    "    \n",
    "#     return known_face_encodings, known_face_names\n",
    "    return 1"
   ]
  },
  {
   "cell_type": "code",
   "execution_count": 30,
   "metadata": {
    "scrolled": false
   },
   "outputs": [
    {
     "name": "stdout",
     "output_type": "stream",
     "text": [
      "Time encoding image align:  0.016719579696655273\n"
     ]
    }
   ],
   "source": [
    "start = time.time()\n",
    "known_face_encoding_to_numpy(\"../data/pictures_of_people_i_know/\")\n",
    "end = time.time()\n",
    "print(\"Time encoding image align: \", (end-start))"
   ]
  },
  {
   "cell_type": "code",
   "execution_count": 31,
   "metadata": {},
   "outputs": [],
   "source": [
    "known_face_encoding = np.load(\"../data/numpy/known_face_encoding.npy\")"
   ]
  },
  {
   "cell_type": "code",
   "execution_count": 32,
   "metadata": {
    "scrolled": true
   },
   "outputs": [
    {
     "data": {
      "text/plain": [
       "'damvantai0'"
      ]
     },
     "execution_count": 32,
     "metadata": {},
     "output_type": "execute_result"
    }
   ],
   "source": [
    "ntpath.split(\"damvantai.0.1.1.1\")[1].split('.')[0] + (ntpath.split(\"damvantai.0.1.1.1\")[1].split('.')[1])"
   ]
  },
  {
   "cell_type": "code",
   "execution_count": 33,
   "metadata": {},
   "outputs": [],
   "source": [
    "# known_face_encoding[4]"
   ]
  },
  {
   "cell_type": "code",
   "execution_count": 34,
   "metadata": {},
   "outputs": [],
   "source": [
    "known_face_encoding = np.load(\"../data/numpy/known_face_encoding.npy\")"
   ]
  },
  {
   "cell_type": "code",
   "execution_count": 35,
   "metadata": {},
   "outputs": [],
   "source": [
    "# print(known_face_encoding)\n",
    "# print(type(known_face_encoding))\n",
    "# print(type(known_face_encoding[0]))\n",
    "# print(type(known_face_encoding[0][0]))\n",
    "len(known_face_encoding)\n",
    "known_face_names = np.load(\"../data/numpy/known_face_names.npy\")"
   ]
  },
  {
   "cell_type": "code",
   "execution_count": 36,
   "metadata": {},
   "outputs": [
    {
     "name": "stdout",
     "output_type": "stream",
     "text": [
      "0\n",
      "0\n",
      "[]\n"
     ]
    }
   ],
   "source": [
    "print(len(known_face_names))\n",
    "print(len(known_face_encoding))\n",
    "print(known_face_names)"
   ]
  },
  {
   "cell_type": "code",
   "execution_count": null,
   "metadata": {},
   "outputs": [],
   "source": []
  }
 ],
 "metadata": {
  "kernelspec": {
   "display_name": "Python 3",
   "language": "python",
   "name": "python3"
  },
  "language_info": {
   "codemirror_mode": {
    "name": "ipython",
    "version": 3
   },
   "file_extension": ".py",
   "mimetype": "text/x-python",
   "name": "python",
   "nbconvert_exporter": "python",
   "pygments_lexer": "ipython3",
   "version": "3.5.2"
  }
 },
 "nbformat": 4,
 "nbformat_minor": 2
}
